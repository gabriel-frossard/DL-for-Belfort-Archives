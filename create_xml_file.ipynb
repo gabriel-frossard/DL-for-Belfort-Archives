{
 "cells": [
  {
   "cell_type": "code",
   "execution_count": null,
   "id": "1fe203e9-0984-4663-9982-6a48fbde1fc9",
   "metadata": {},
   "outputs": [],
   "source": [
    "import xml.etree.ElementTree as ET\n",
    "\n",
    "class CreateXMLFile:\n",
    "    def __init__(self):\n",
    "        pass\n",
    "    \n",
    "    def create_element(self, element_name):\n",
    "        return ET.Element(element_name)\n",
    "    \n",
    "    def create_subelement(self, element_tag, subelement_name):\n",
    "        return ET.SubElement(element_tag, subelement_name)  #book1 = ET.SubElement(root, \"ReadingOrder\")\n",
    "    \n",
    "    def create_attrib(self, tag, attrib_name, attrib_value):\n",
    "        tag.attrib[attrib_name] = attrib_value\n",
    "        \n",
    "    def add_text(self, element, text):\n",
    "        element.text = text     #title2.text = \"Book Title 2\"\n",
    "    \n",
    "    def create_final_xml_file(self, xml_file_path, xml_file_name, root):\n",
    "        # Create the XML tree\n",
    "        tree = ET.ElementTree(root)\n",
    "        # Write the XML tree to a file\n",
    "        tree.write(os.path.join(xml_file_path, xml_file_name), encoding=\"utf-8\", xml_declaration=True)\n",
    "\n",
    "        "
   ]
  }
 ],
 "metadata": {
  "kernelspec": {
   "display_name": "Python 3 (ipykernel)",
   "language": "python",
   "name": "python3"
  },
  "language_info": {
   "codemirror_mode": {
    "name": "ipython",
    "version": 3
   },
   "file_extension": ".py",
   "mimetype": "text/x-python",
   "name": "python",
   "nbconvert_exporter": "python",
   "pygments_lexer": "ipython3",
   "version": "3.12.3"
  }
 },
 "nbformat": 4,
 "nbformat_minor": 5
}
