{
 "cells": [
  {
   "cell_type": "code",
   "execution_count": 6,
   "id": "68622190",
   "metadata": {},
   "outputs": [],
   "source": [
    "import cv2\n",
    "import matplotlib as plt\n",
    "\n",
    "from draw_files import draw_random_files\n",
    "from split_merge import *"
   ]
  },
  {
   "cell_type": "code",
   "execution_count": 7,
   "id": "cce5a73f",
   "metadata": {},
   "outputs": [],
   "source": [
    "# Sample 5 scans\n",
    "\n",
    "scan_folder = '../dataset/Clean_ECD_1807-1919' # added to .gitignore  \n",
    "save_folder = '../Segmentations Tools/Sample/' \n",
    "nb_sample = 5"
   ]
  },
  {
   "cell_type": "code",
   "execution_count": 8,
   "id": "e2206d2a",
   "metadata": {},
   "outputs": [],
   "source": [
    "# draw the \n",
    "random_files = draw_random_files(scan_folder, nb_sample)"
   ]
  },
  {
   "cell_type": "code",
   "execution_count": 9,
   "id": "4d373354",
   "metadata": {},
   "outputs": [
    {
     "name": "stdout",
     "output_type": "stream",
     "text": [
      "True\n",
      "True\n",
      "True\n",
      "True\n",
      "True\n"
     ]
    }
   ],
   "source": [
    "for i,file in enumerate(random_files):\n",
    "    image = cv2.imread(file)\n",
    "    gray_image = cv2.cvtColor(image, cv2.COLOR_BGR2GRAY)\n",
    "    path_file = save_folder + \"Sample\" + str(i)+\".png\"\n",
    "    print(cv2.imwrite(path_file, gray_image))"
   ]
  }
 ],
 "metadata": {
  "kernelspec": {
   "display_name": "Python 3 (ipykernel)",
   "language": "python",
   "name": "python3"
  },
  "language_info": {
   "codemirror_mode": {
    "name": "ipython",
    "version": 3
   },
   "file_extension": ".py",
   "mimetype": "text/x-python",
   "name": "python",
   "nbconvert_exporter": "python",
   "pygments_lexer": "ipython3",
   "version": "3.12.3"
  }
 },
 "nbformat": 4,
 "nbformat_minor": 5
}
