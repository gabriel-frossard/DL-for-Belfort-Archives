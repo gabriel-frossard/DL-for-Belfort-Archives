{
 "cells": [
  {
   "cell_type": "code",
   "execution_count": null,
   "id": "0ddc9a22-7066-430a-893a-b55cfc8d2d13",
   "metadata": {},
   "outputs": [],
   "source": [
    "# Import classes and functions from other notebooks\n",
    "%run create_xml_file.ipynb\n",
    "%run read_txt_file.ipynb\n",
    "%run controller.ipynb\n",
    "\n",
    "if __name__ == '__main__':\n",
    "    uploader = Controller(\"dataset/\")\n",
    "\n",
    "    # Set segment thresholds\n",
    "    line_threshold = 1200\n",
    "    number_threshold = 200\n",
    "    name_threshold = 1000\n",
    "    margin_threshold = 200\n",
    "\n",
    "    uploader.run(line_threshold, number_threshold, name_threshold, margin_threshold)\n",
    "    print('Finished cropping segments...')"
   ]
  }
 ],
 "metadata": {
  "kernelspec": {
   "display_name": "Python 3 (ipykernel)",
   "language": "python",
   "name": "python3"
  },
  "language_info": {
   "codemirror_mode": {
    "name": "ipython",
    "version": 3
   },
   "file_extension": ".py",
   "mimetype": "text/x-python",
   "name": "python",
   "nbconvert_exporter": "python",
   "pygments_lexer": "ipython3",
   "version": "3.8.9"
  }
 },
 "nbformat": 4,
 "nbformat_minor": 5
}
