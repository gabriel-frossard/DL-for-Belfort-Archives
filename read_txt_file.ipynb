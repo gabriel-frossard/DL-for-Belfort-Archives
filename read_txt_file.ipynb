{
 "cells": [
  {
   "cell_type": "code",
   "execution_count": null,
   "id": "fe732a4d-30fa-4e3c-9293-d98c8aa9ccb1",
   "metadata": {},
   "outputs": [],
   "source": [
    "\n",
    "class ReadTxtFile:\n",
    "    def __init__(self):\n",
    "        pass\n",
    "    \n",
    "    def read_file(self, input_file_path):\n",
    "        try:\n",
    "            with open(input_file_path, \"r\", encoding=\"utf-8\") as input_file:\n",
    "                return input_file.read()\n",
    "        except:\n",
    "            print ('Search tag method: txt file not found')\n",
    "                    \n",
    "    def search_tag(self, input_file_path, keyword):\n",
    "        try:\n",
    "            with open(input_file_path, \"r\", encoding=\"utf-8\") as input_file:\n",
    "                for line in input_file:\n",
    "                    line = line.strip()  # Remove any leading or trailing whitespace\n",
    "                    if keyword in line:\n",
    "                        return True\n",
    "        except:\n",
    "            print ('Search tag method: txt file not found')\n",
    "            return False\n",
    "        \n",
    "    def format_txt_file(self, input_file_path, output_file_path):\n",
    "        \n",
    "        try:\n",
    "            with open(input_file_path, \"r\", encoding=\"utf-8\") as input_file:\n",
    "                with open(output_file_path, \"w\", encoding=\"utf-8\") as output_file:\n",
    "                    for line in input_file:\n",
    "                        line = line.strip()  # Remove any leading or trailing whitespace\n",
    "\n",
    "                        if line == \"<begin>\":\n",
    "                            pass\n",
    "                        elif \"<begin>\" in line:\n",
    "                            line = line.replace(\"<begin>\", \"<begin>\\n\")\n",
    "\n",
    "                        if line == \"<page>\" or \"<page>\" in line:\n",
    "                            line = line.replace(\"<page>\", \"<\\\\text>\\n<page>\\n<text>\")\n",
    "\n",
    "                        if line == \"<text>\":\n",
    "                            pass\n",
    "                        elif \"<text>\" in line:\n",
    "                            line = line.replace(\"<text>\", \"<text>\\n\")\n",
    "\n",
    "                        if line == \"<\\\\text>\":\n",
    "                            pass\n",
    "                        elif \"<\\\\text>\" in line:\n",
    "                            line = line.replace(\"<\\\\text>\", \"\\n<\\\\text>\")\n",
    "\n",
    "                        output_file.write(line + \"\\n\")\n",
    "\n",
    "        except FileNotFoundError:\n",
    "            print(\"Input file not found.\")\n",
    "        except IOError:\n",
    "            print(\"An error occurred while reading or writing the file.\")"
   ]
  }
 ],
 "metadata": {
  "kernelspec": {
   "display_name": "Python 3 (ipykernel)",
   "language": "python",
   "name": "python3"
  },
  "language_info": {
   "codemirror_mode": {
    "name": "ipython",
    "version": 3
   },
   "file_extension": ".py",
   "mimetype": "text/x-python",
   "name": "python",
   "nbconvert_exporter": "python",
   "pygments_lexer": "ipython3",
   "version": "3.12.3"
  }
 },
 "nbformat": 4,
 "nbformat_minor": 5
}
