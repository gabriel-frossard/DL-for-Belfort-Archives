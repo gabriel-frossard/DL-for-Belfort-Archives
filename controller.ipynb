{
 "cells": [
  {
   "cell_type": "code",
   "execution_count": null,
   "id": "27caaa3c-fa2b-41bd-9d6c-651c99a56aee",
   "metadata": {},
   "outputs": [],
   "source": [
    "import cv2\n",
    "import os\n",
    "import numpy as np\n",
    "import keyboard\n",
    "import xml.etree.ElementTree as ET\n",
    "import tkinter as tk\n",
    "from tkinter import font\n",
    "\n",
    "\n",
    "# Import classes and functions from other notebooks\n",
    "%run preprocessing.ipynb\n",
    "%run read_txt_file.ipynb\n",
    "%run create_xml_file.ipynb\n",
    "\n",
    "\n",
    "class Controller:\n",
    "    def __init__(self, directory):\n",
    "        # create classes instances \n",
    "        self.preprocessing_class = Preprocessing()\n",
    "        #self.create_xml_file_class = create_xml_file()\n",
    "        self.read_txt_file = ReadTxtFile()\n",
    "        self.directory = directory\n",
    "        self.dataset_directory = os.path.join(self.directory, 'input_dataset/')\n",
    "        self.transcription_directory = os.path.join(self.directory, 'txt_files/')\n",
    "        self.final_dataset_directory = os.path.join(self.directory, 'final_dataset/')\n",
    "        \n",
    "    def load_image(self, image_name):\n",
    "        # upload image from the directory\n",
    "        return cv2.imread(image_name)\n",
    "    \n",
    "    def save_image(self, image_path, image):\n",
    "        cv2.imwrite(image_path, image)\n",
    "\n",
    "    def create_directory(self, directory_path):\n",
    "        if not os.path.exists(directory_path):\n",
    "            os.makedirs(directory_path)\n",
    "\n",
    "    def run(self, line_threshold, number_threshold, name_threshold, margin_threshold):        \n",
    "        for image_name in os.listdir(self.dataset_directory):\n",
    "            if image_name != '.ipynb_checkpoints' and image_name.split(\".\")[-1] == 'jpg':\n",
    "                print (image_name)\n",
    "                # Read image\n",
    "                image = self.load_image(os.path.join(self.dataset_directory, image_name))\n",
    "                # Crop paragraphs from the images\n",
    "                self.preprocessing_class.page_setup(self.dataset_directory,\n",
    "                                                    self.final_dataset_directory,\n",
    "                                                    self.transcription_directory,\n",
    "                                                    image_name,\n",
    "                                                    image, \n",
    "                                                    line_threshold, \n",
    "                                                    number_threshold, \n",
    "                                                    name_threshold, \n",
    "                                                    margin_threshold)"
   ]
  }
 ],
 "metadata": {
  "kernelspec": {
   "display_name": "Python 3 (ipykernel)",
   "language": "python",
   "name": "python3"
  },
  "language_info": {
   "codemirror_mode": {
    "name": "ipython",
    "version": 3
   },
   "file_extension": ".py",
   "mimetype": "text/x-python",
   "name": "python",
   "nbconvert_exporter": "python",
   "pygments_lexer": "ipython3",
   "version": "3.12.3"
  }
 },
 "nbformat": 4,
 "nbformat_minor": 5
}
